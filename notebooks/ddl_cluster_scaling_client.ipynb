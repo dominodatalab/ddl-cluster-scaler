{
 "cells": [
  {
   "cell_type": "code",
   "execution_count": null,
   "id": "initial_id",
   "metadata": {
    "collapsed": true
   },
   "outputs": [],
   "source": [
    "from src import ddl_cluster_scaling_client\n",
    "import json"
   ]
  },
  {
   "metadata": {},
   "cell_type": "code",
   "outputs": [],
   "execution_count": null,
   "source": [
    "result = ddl_cluster_scaling_client.get_auth_headers()\n",
    "print(result['Authorization'][0:20])"
   ],
   "id": "178df3fc83034700"
  },
  {
   "metadata": {},
   "cell_type": "code",
   "outputs": [],
   "execution_count": null,
   "source": "",
   "id": "6b9201b7e0f9fd79"
  },
  {
   "metadata": {},
   "cell_type": "code",
   "outputs": [],
   "execution_count": null,
   "source": [
    "#Get cluster status\n",
    "def get_cluster_status():\n",
    "    j = ddl_cluster_scaling_client.get_cluster_status()\n",
    "    print('Cluster status')\n",
    "    print(json.dumps(j, indent=2, sort_keys=True, ensure_ascii=False))\n",
    "    j = ddl_cluster_scaling_client.get_cluster_status()['spec']['autoscaling']\n",
    "    print('Cluster Autoscaling status')\n",
    "    print(json.dumps(j, indent=2, sort_keys=True, ensure_ascii=False))\n",
    "    j = ddl_cluster_scaling_client.get_cluster_status()['spec']['worker']['replicas']\n",
    "    print('Cluster worker replicas')\n",
    "    print(j)\n"
   ],
   "id": "2c76cdc1cfcd2270"
  },
  {
   "metadata": {},
   "cell_type": "code",
   "outputs": [],
   "execution_count": null,
   "source": [
    "# Scale to 3 workers\n",
    "j = ddl_cluster_scaling_client.scale_cluster(cluster_kind=\"rayclusters\",worker_hw_tier_name=\"Medium\", replicas=3)\n",
    "json.dumps(j, indent=2, sort_keys=True, ensure_ascii=False)\n",
    "ddl_cluster_scaling_client.wait_until_scaling_complete(cluster_kind=\"rayclusters\")\n",
    "\n",
    "\n",
    "#Restart head node\n",
    "j = ddl_cluster_scaling_client.restart_head_node(cluster_kind=\"rayclusters\")\n",
    "restarts_at = j['started_at']\n",
    "print(restarts_at)\n",
    "ddl_cluster_scaling_client.restart_head_node_status(cluster_kind=\"rayclusters\", restarted_since=restarts_at)\n",
    "ddl_cluster_scaling_client.wait_until_node_restarted(cluster_kind=\"rayclusters\", restarted_since=restarts_at)\n",
    "\n"
   ],
   "id": "568e45d8821beeab"
  },
  {
   "metadata": {},
   "cell_type": "code",
   "outputs": [],
   "execution_count": null,
   "source": "get_cluster_status()",
   "id": "11b81be0a7cb6fdb"
  },
  {
   "metadata": {},
   "cell_type": "code",
   "outputs": [],
   "execution_count": null,
   "source": "",
   "id": "ae483806ebb7a6b2"
  },
  {
   "metadata": {},
   "cell_type": "code",
   "outputs": [],
   "execution_count": null,
   "source": [
    "## Scale back to 1 worker\n",
    "j = ddl_cluster_scaling_client.scale_cluster(cluster_kind=\"rayclusters\",worker_hw_tier_name=\"Small\", replicas=1)\n",
    "json.dumps(j, indent=2, sort_keys=True, ensure_ascii=False)\n",
    "ddl_cluster_scaling_client.wait_until_scaling_complete(cluster_kind=\"rayclusters\")\n",
    "\n",
    "## Restart head node again\n",
    "ddl_cluster_scaling_client.restart_head_node_status(cluster_kind=\"rayclusters\", restarted_since=restarts_at)\n",
    "ddl_cluster_scaling_client.wait_until_node_restarted(cluster_kind=\"rayclusters\", restarted_since=restarts_at)"
   ],
   "id": "a36a914b9fd6e153"
  },
  {
   "metadata": {},
   "cell_type": "code",
   "outputs": [],
   "execution_count": null,
   "source": "get_cluster_status()",
   "id": "b2184f839fd47e16"
  }
 ],
 "metadata": {
  "kernelspec": {
   "display_name": "Python 3",
   "language": "python",
   "name": "python3"
  },
  "language_info": {
   "codemirror_mode": {
    "name": "ipython",
    "version": 2
   },
   "file_extension": ".py",
   "mimetype": "text/x-python",
   "name": "python",
   "nbconvert_exporter": "python",
   "pygments_lexer": "ipython2",
   "version": "2.7.6"
  }
 },
 "nbformat": 4,
 "nbformat_minor": 5
}
