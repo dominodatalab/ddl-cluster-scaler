{
 "cells": [
  {
   "cell_type": "markdown",
   "id": "72c02954-06e9-412d-b1a8-fadc08efb341",
   "metadata": {},
   "source": [
    "## Example notebook to demonstrate scaling up clusters\n",
    "\n",
    "This notebook only illustrates how to list/get/scale `sparkclusters`. The process is the same for `rayclusters` and `daskclusters`.\n",
    "\n",
    "Make the approrpriate change to the `kind` in the url and run the same notebook to try this out for ray and dask clusters"
   ]
  },
  {
   "cell_type": "code",
   "execution_count": null,
   "id": "7ba1d91d-4a35-4b0b-a719-42148aee8f38",
   "metadata": {},
   "outputs": [],
   "source": [
    "import requests\n",
    "import os"
   ]
  },
  {
   "cell_type": "code",
   "execution_count": null,
   "id": "c6e1721d-a58c-415b-a30c-72f18d0042c3",
   "metadata": {},
   "outputs": [],
   "source": [
    "base_url_of_cluster_scaler = \"http://ddl-cluster-scaler-svc.domino-field.svc.cluster.local\"\n",
    "service_name=\"ddl_cluster_scaler\""
   ]
  },
  {
   "cell_type": "code",
   "execution_count": null,
   "id": "9cdbf3ed-b8ac-4532-ad60-7dcaeab08c6a",
   "metadata": {},
   "outputs": [],
   "source": [
    "# Is service running\n",
    "healthz_url = f\"{base_url_of_cluster_scaler}/healthz\"\n",
    "requests.get(healthz_url).text"
   ]
  },
  {
   "cell_type": "code",
   "execution_count": null,
   "id": "4b31e368-1cda-4f8e-aaa2-a428f5507cbf",
   "metadata": {},
   "outputs": [],
   "source": [
    "def get_auth_headers():\n",
    "    domino_api_proxy= os.environ['DOMINO_API_PROXY']\n",
    "    #This is a proxy for the service account tokem\n",
    "    token = requests.get(f\"{domino_api_proxy}/access-token\").text\n",
    "    headers = {\n",
    "        \"Authorization\": f\"Bearer {token}\",\n",
    "        \"Content-Type\": \"application/json\"   # add this if you're posting JSON\n",
    "    }\n",
    "    return headers "
   ]
  },
  {
   "cell_type": "code",
   "execution_count": null,
   "id": "12b663b7-8ccb-4ba4-a78a-896033e1beee",
   "metadata": {},
   "outputs": [],
   "source": [
    "# List all visible clusters\n",
    "cluster_kind=\"sparkclusters\"\n",
    "list_cluster_url = f\"{base_url_of_cluster_scaler}/{service_name}/list/{cluster_kind}\"\n",
    "print(list_cluster_url)\n",
    "resp = requests.get(list_cluster_url,headers=get_auth_headers())\n",
    "print(f\"Status code {resp.status_code}\")\n",
    "all_clusters = resp.json()\n",
    "#print(all_clusters)"
   ]
  },
  {
   "cell_type": "code",
   "execution_count": null,
   "id": "301dfac2-5b67-4a26-b9bb-d648ddcaced0",
   "metadata": {},
   "outputs": [],
   "source": [
    "# Get the spark id\n",
    "spark_cluster_id = f\"spark-{os.environ['DOMINO_RUN_ID']}\""
   ]
  },
  {
   "cell_type": "code",
   "execution_count": null,
   "id": "6c577fde-ed39-4452-9dcf-b29a07461218",
   "metadata": {},
   "outputs": [],
   "source": [
    "# Get the spark details\n",
    "cluster_kind=\"sparkclusters\"\n",
    "get_cluster_url = f\"{base_url_of_cluster_scaler}/{service_name}/get/{cluster_kind}/{spark_cluster_id}\"\n",
    "print(get_cluster_url)\n",
    "resp = requests.get(get_cluster_url,headers=get_auth_headers())\n",
    "print(f\"Status code {resp.status_code}\")\n",
    "cluster_details = resp.json()"
   ]
  },
  {
   "cell_type": "code",
   "execution_count": null,
   "id": "fb5a3e5d-ecc0-42dd-8f11-123344e49830",
   "metadata": {},
   "outputs": [],
   "source": [
    "# Scale up the cluster\n",
    "cluster_kind=\"sparkclusters\"\n",
    "scale_cluster_url = f\"{base_url_of_cluster_scaler}/{service_name}/scale/{cluster_kind}/{spark_cluster_id}\"\n",
    "print(scale_cluster_url)\n",
    "replicas=3\n",
    "resp = requests.post(\n",
    "    scale_cluster_url,\n",
    "    headers=get_auth_headers(),\n",
    "    json={\"replicas\": replicas},\n",
    "    timeout=(3.05, 10),\n",
    ")\n",
    "print(f\"Status code {resp.status_code}\")\n",
    "cluster_details = resp.json()"
   ]
  },
  {
   "cell_type": "code",
   "execution_count": null,
   "id": "d49410ff-d598-4537-8656-9fa453935cac",
   "metadata": {},
   "outputs": [],
   "source": [
    "# Scale down the cluster\n",
    "cluster_kind=\"sparkclusters\"\n",
    "scale_cluster_url = f\"{base_url_of_cluster_scaler}/{service_name}/scale/{cluster_kind}/{spark_cluster_id}\"\n",
    "print(scale_cluster_url)\n",
    "replicas=1\n",
    "resp = requests.post(\n",
    "    scale_cluster_url,\n",
    "    headers=get_auth_headers(),\n",
    "    json={\"replicas\": replicas},\n",
    "    timeout=(3.05, 10),\n",
    ")\n",
    "print(f\"Status code {resp.status_code}\")\n",
    "cluster_details = resp.json()"
   ]
  },
  {
   "cell_type": "code",
   "execution_count": null,
   "id": "41125275-64f9-4b9a-b1f6-1451315a7ead",
   "metadata": {},
   "outputs": [],
   "source": []
  }
 ],
 "metadata": {
  "kernelspec": {
   "display_name": "Python 3 (ipykernel)",
   "language": "python",
   "name": "python3"
  },
  "language_info": {
   "codemirror_mode": {
    "name": "ipython",
    "version": 3
   },
   "file_extension": ".py",
   "mimetype": "text/x-python",
   "name": "python",
   "nbconvert_exporter": "python",
   "pygments_lexer": "ipython3",
   "version": "3.10.14"
  }
 },
 "nbformat": 4,
 "nbformat_minor": 5
}
